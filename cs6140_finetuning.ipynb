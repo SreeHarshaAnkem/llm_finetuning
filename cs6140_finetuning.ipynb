{
  "nbformat": 4,
  "nbformat_minor": 0,
  "metadata": {
    "colab": {
      "provenance": [],
      "machine_shape": "hm",
      "gpuType": "V100"
    },
    "kernelspec": {
      "name": "python3",
      "display_name": "Python 3"
    },
    "language_info": {
      "name": "python"
    },
    "accelerator": "GPU"
  },
  "cells": [
    {
      "cell_type": "code",
      "execution_count": 1,
      "metadata": {
        "colab": {
          "base_uri": "https://localhost:8080/"
        },
        "id": "sONLZ-jGQNyu",
        "outputId": "6c5f52ad-3250-40c9-d47d-a33739622ea1"
      },
      "outputs": [
        {
          "output_type": "stream",
          "name": "stdout",
          "text": [
            "  Installing build dependencies ... \u001b[?25l\u001b[?25hdone\n",
            "  Getting requirements to build wheel ... \u001b[?25l\u001b[?25hdone\n",
            "  Preparing metadata (pyproject.toml) ... \u001b[?25l\u001b[?25hdone\n",
            "\u001b[2K     \u001b[90m━━━━━━━━━━━━━━━━━━━━━━━━━━━━━━━━━━━━━━━━\u001b[0m \u001b[32m200.4/200.4 kB\u001b[0m \u001b[31m3.9 MB/s\u001b[0m eta \u001b[36m0:00:00\u001b[0m\n",
            "\u001b[2K     \u001b[90m━━━━━━━━━━━━━━━━━━━━━━━━━━━━━━━━━━━━━━━━\u001b[0m \u001b[32m7.7/7.7 MB\u001b[0m \u001b[31m76.6 MB/s\u001b[0m eta \u001b[36m0:00:00\u001b[0m\n",
            "\u001b[2K     \u001b[90m━━━━━━━━━━━━━━━━━━━━━━━━━━━━━━━━━━━━━━━━\u001b[0m \u001b[32m519.6/519.6 kB\u001b[0m \u001b[31m50.0 MB/s\u001b[0m eta \u001b[36m0:00:00\u001b[0m\n",
            "\u001b[2K     \u001b[90m━━━━━━━━━━━━━━━━━━━━━━━━━━━━━━━━━━━━━━━━\u001b[0m \u001b[32m84.1/84.1 kB\u001b[0m \u001b[31m10.8 MB/s\u001b[0m eta \u001b[36m0:00:00\u001b[0m\n",
            "\u001b[2K     \u001b[90m━━━━━━━━━━━━━━━━━━━━━━━━━━━━━━━━━━━━━━━━\u001b[0m \u001b[32m62.5/62.5 kB\u001b[0m \u001b[31m8.2 MB/s\u001b[0m eta \u001b[36m0:00:00\u001b[0m\n",
            "\u001b[2K     \u001b[90m━━━━━━━━━━━━━━━━━━━━━━━━━━━━━━━━━━━━━━━━\u001b[0m \u001b[32m88.3/88.3 kB\u001b[0m \u001b[31m11.2 MB/s\u001b[0m eta \u001b[36m0:00:00\u001b[0m\n",
            "\u001b[?25h  Preparing metadata (setup.py) ... \u001b[?25l\u001b[?25hdone\n",
            "\u001b[2K     \u001b[90m━━━━━━━━━━━━━━━━━━━━━━━━━━━━━━━━━━━━━━━━\u001b[0m \u001b[32m2.1/2.1 MB\u001b[0m \u001b[31m81.6 MB/s\u001b[0m eta \u001b[36m0:00:00\u001b[0m\n",
            "\u001b[2K     \u001b[90m━━━━━━━━━━━━━━━━━━━━━━━━━━━━━━━━━━━━━━━━\u001b[0m \u001b[32m302.0/302.0 kB\u001b[0m \u001b[31m30.1 MB/s\u001b[0m eta \u001b[36m0:00:00\u001b[0m\n",
            "\u001b[2K     \u001b[90m━━━━━━━━━━━━━━━━━━━━━━━━━━━━━━━━━━━━━━━━\u001b[0m \u001b[32m3.8/3.8 MB\u001b[0m \u001b[31m105.0 MB/s\u001b[0m eta \u001b[36m0:00:00\u001b[0m\n",
            "\u001b[2K     \u001b[90m━━━━━━━━━━━━━━━━━━━━━━━━━━━━━━━━━━━━━━━━\u001b[0m \u001b[32m1.3/1.3 MB\u001b[0m \u001b[31m86.7 MB/s\u001b[0m eta \u001b[36m0:00:00\u001b[0m\n",
            "\u001b[2K     \u001b[90m━━━━━━━━━━━━━━━━━━━━━━━━━━━━━━━━━━━━━━━━\u001b[0m \u001b[32m115.3/115.3 kB\u001b[0m \u001b[31m13.9 MB/s\u001b[0m eta \u001b[36m0:00:00\u001b[0m\n",
            "\u001b[2K     \u001b[90m━━━━━━━━━━━━━━━━━━━━━━━━━━━━━━━━━━━━━━━━\u001b[0m \u001b[32m134.8/134.8 kB\u001b[0m \u001b[31m19.0 MB/s\u001b[0m eta \u001b[36m0:00:00\u001b[0m\n",
            "\u001b[2K     \u001b[90m━━━━━━━━━━━━━━━━━━━━━━━━━━━━━━━━━━━━━━━━\u001b[0m \u001b[32m258.1/258.1 kB\u001b[0m \u001b[31m30.3 MB/s\u001b[0m eta \u001b[36m0:00:00\u001b[0m\n",
            "\u001b[2K     \u001b[90m━━━━━━━━━━━━━━━━━━━━━━━━━━━━━━━━━━━━━━━━\u001b[0m \u001b[32m295.0/295.0 kB\u001b[0m \u001b[31m28.0 MB/s\u001b[0m eta \u001b[36m0:00:00\u001b[0m\n",
            "\u001b[?25h  Building wheel for peft (pyproject.toml) ... \u001b[?25l\u001b[?25hdone\n",
            "  Building wheel for fire (setup.py) ... \u001b[?25l\u001b[?25hdone\n"
          ]
        }
      ],
      "source": [
        "!python -m pip install -q -r requirements.txt"
      ]
    },
    {
      "cell_type": "markdown",
      "source": [
        "# Full finetuning"
      ],
      "metadata": {
        "id": "cPvEaqxrrX8O"
      }
    },
    {
      "cell_type": "code",
      "source": [
        "!python train.py --model_id=yikuan8/Clinical-BigBird  --save_dir=full_training_model --num_labels=3 --epochs=5 --use_peft=False"
      ],
      "metadata": {
        "colab": {
          "base_uri": "https://localhost:8080/"
        },
        "id": "W4Q6wp0xR2t_",
        "outputId": "6540df75-867f-407a-c1e1-46e26c924c70"
      },
      "execution_count": 2,
      "outputs": [
        {
          "output_type": "stream",
          "name": "stdout",
          "text": [
            "2023-10-22 18:19:53.285565: W tensorflow/compiler/tf2tensorrt/utils/py_utils.cc:38] TF-TRT Warning: Could not find TensorRT\n",
            "Map: 100% 1550/1550 [00:00<00:00, 11249.65 examples/s]\n",
            "Map: 100% 1081/1081 [00:00<00:00, 12997.34 examples/s]\n",
            "Epoch 1/5\n",
            "Loss: 0.0466\n",
            "Accuracy: 0.6890\n",
            "F1 Score: 0.6879\n",
            "Recall: 0.6890\n",
            "Precision: 0.6918\n",
            "--------------------------------------------------\n",
            "Epoch 2/5\n",
            "Loss: 0.0262\n",
            "Accuracy: 0.8535\n",
            "F1 Score: 0.8535\n",
            "Recall: 0.8535\n",
            "Precision: 0.8538\n",
            "--------------------------------------------------\n",
            "Epoch 3/5\n",
            "Loss: 0.0174\n",
            "Accuracy: 0.9142\n",
            "F1 Score: 0.9142\n",
            "Recall: 0.9142\n",
            "Precision: 0.9143\n",
            "--------------------------------------------------\n",
            "Epoch 4/5\n",
            "Loss: 0.0134\n",
            "Accuracy: 0.9342\n",
            "F1 Score: 0.9342\n",
            "Recall: 0.9342\n",
            "Precision: 0.9342\n",
            "--------------------------------------------------\n",
            "Epoch 5/5\n",
            "Loss: 0.0081\n",
            "Accuracy: 0.9619\n",
            "F1 Score: 0.9619\n",
            "Recall: 0.9619\n",
            "Precision: 0.9620\n",
            "--------------------------------------------------\n",
            "\u001b[32m2023-10-22 18:20:57.272\u001b[0m | \u001b[1mINFO    \u001b[0m | \u001b[36m__main__\u001b[0m:\u001b[36mmain\u001b[0m:\u001b[36m212\u001b[0m - \u001b[1mTest Metrics: {'accuracy': 0.8075855689176689, 'f1_score': 0.8074692009458524, 'recall': 0.8075855689176689, 'precision': 0.8117879429715977}\u001b[0m\n"
          ]
        }
      ]
    },
    {
      "cell_type": "markdown",
      "source": [
        "# LoRA"
      ],
      "metadata": {
        "id": "mW5m-Be6rU_9"
      }
    },
    {
      "cell_type": "code",
      "source": [
        "!python train.py --model_id=yikuan8/Clinical-BigBird --save_dir=peft_lora_model --num_labels=3 --epochs=15 --use_peft=True --peft_method=lora"
      ],
      "metadata": {
        "colab": {
          "base_uri": "https://localhost:8080/"
        },
        "id": "-SZj9_aTQY3N",
        "outputId": "437aebe5-424c-43cb-e813-929f81c3b001"
      },
      "execution_count": 3,
      "outputs": [
        {
          "output_type": "stream",
          "name": "stdout",
          "text": [
            "2023-10-22 18:21:03.541680: W tensorflow/compiler/tf2tensorrt/utils/py_utils.cc:38] TF-TRT Warning: Could not find TensorRT\n",
            "Map: 100% 1550/1550 [00:00<00:00, 10776.23 examples/s]\n",
            "Map: 100% 1081/1081 [00:00<00:00, 12801.92 examples/s]\n",
            "\u001b[32m2023-10-22 18:21:11.740\u001b[0m | \u001b[1mINFO    \u001b[0m | \u001b[36mmodel\u001b[0m:\u001b[36mprint_trainable_parameters\u001b[0m:\u001b[36m65\u001b[0m - \u001b[1mtrainable params: 1932291 || all params: 130006278 || trainable%: 1.4863059151651123\u001b[0m\n",
            "Epoch 1/15\n",
            "Loss: 0.0664\n",
            "Accuracy: 0.4484\n",
            "F1 Score: 0.3633\n",
            "Recall: 0.4484\n",
            "Precision: 0.4908\n",
            "--------------------------------------------------\n",
            "Epoch 2/15\n",
            "Loss: 0.0609\n",
            "Accuracy: 0.5245\n",
            "F1 Score: 0.4592\n",
            "Recall: 0.5245\n",
            "Precision: 0.6237\n",
            "--------------------------------------------------\n",
            "Epoch 3/15\n",
            "Loss: 0.0483\n",
            "Accuracy: 0.7097\n",
            "F1 Score: 0.7075\n",
            "Recall: 0.7097\n",
            "Precision: 0.7168\n",
            "--------------------------------------------------\n",
            "Epoch 4/15\n",
            "Loss: 0.0377\n",
            "Accuracy: 0.7684\n",
            "F1 Score: 0.7683\n",
            "Recall: 0.7684\n",
            "Precision: 0.7684\n",
            "--------------------------------------------------\n",
            "Epoch 5/15\n",
            "Loss: 0.0336\n",
            "Accuracy: 0.7877\n",
            "F1 Score: 0.7876\n",
            "Recall: 0.7877\n",
            "Precision: 0.7884\n",
            "--------------------------------------------------\n",
            "Epoch 6/15\n",
            "Loss: 0.0303\n",
            "Accuracy: 0.8148\n",
            "F1 Score: 0.8149\n",
            "Recall: 0.8148\n",
            "Precision: 0.8156\n",
            "--------------------------------------------------\n",
            "Epoch 7/15\n",
            "Loss: 0.0299\n",
            "Accuracy: 0.8226\n",
            "F1 Score: 0.8225\n",
            "Recall: 0.8226\n",
            "Precision: 0.8230\n",
            "--------------------------------------------------\n",
            "Epoch 8/15\n",
            "Loss: 0.0284\n",
            "Accuracy: 0.8284\n",
            "F1 Score: 0.8284\n",
            "Recall: 0.8284\n",
            "Precision: 0.8286\n",
            "--------------------------------------------------\n",
            "Epoch 9/15\n",
            "Loss: 0.0268\n",
            "Accuracy: 0.8374\n",
            "F1 Score: 0.8375\n",
            "Recall: 0.8374\n",
            "Precision: 0.8380\n",
            "--------------------------------------------------\n",
            "Epoch 10/15\n",
            "Loss: 0.0259\n",
            "Accuracy: 0.8413\n",
            "F1 Score: 0.8413\n",
            "Recall: 0.8413\n",
            "Precision: 0.8415\n",
            "--------------------------------------------------\n",
            "Epoch 11/15\n",
            "Loss: 0.0247\n",
            "Accuracy: 0.8587\n",
            "F1 Score: 0.8587\n",
            "Recall: 0.8587\n",
            "Precision: 0.8590\n",
            "--------------------------------------------------\n",
            "Epoch 12/15\n",
            "Loss: 0.0241\n",
            "Accuracy: 0.8542\n",
            "F1 Score: 0.8542\n",
            "Recall: 0.8542\n",
            "Precision: 0.8544\n",
            "--------------------------------------------------\n",
            "Epoch 13/15\n",
            "Loss: 0.0237\n",
            "Accuracy: 0.8548\n",
            "F1 Score: 0.8548\n",
            "Recall: 0.8548\n",
            "Precision: 0.8549\n",
            "--------------------------------------------------\n",
            "Epoch 14/15\n",
            "Loss: 0.0225\n",
            "Accuracy: 0.8665\n",
            "F1 Score: 0.8665\n",
            "Recall: 0.8665\n",
            "Precision: 0.8667\n",
            "--------------------------------------------------\n",
            "Epoch 15/15\n",
            "Loss: 0.0218\n",
            "Accuracy: 0.8626\n",
            "F1 Score: 0.8626\n",
            "Recall: 0.8626\n",
            "Precision: 0.8632\n",
            "--------------------------------------------------\n",
            "\u001b[32m2023-10-22 18:23:49.588\u001b[0m | \u001b[1mINFO    \u001b[0m | \u001b[36m__main__\u001b[0m:\u001b[36mmain\u001b[0m:\u001b[36m212\u001b[0m - \u001b[1mTest Metrics: {'accuracy': 0.81313598519889, 'f1_score': 0.8132497315817414, 'recall': 0.81313598519889, 'precision': 0.8182218725985076}\u001b[0m\n"
          ]
        }
      ]
    },
    {
      "cell_type": "code",
      "source": [],
      "metadata": {
        "id": "uG4ryVk2rQaS"
      },
      "execution_count": null,
      "outputs": []
    },
    {
      "cell_type": "markdown",
      "source": [
        "# Prompt Tuning"
      ],
      "metadata": {
        "id": "_jPd5mZ0rRal"
      }
    },
    {
      "cell_type": "code",
      "source": [
        "!python train.py --model_id=yikuan8/Clinical-BigBird --save_dir=peft_prompt_tuning_model --num_labels=3 --epochs=15 --use_peft=True --peft_method=prompt_tuning"
      ],
      "metadata": {
        "colab": {
          "base_uri": "https://localhost:8080/"
        },
        "id": "hRih0MhrQoKG",
        "outputId": "6e751c5e-cdbe-4ba4-a9eb-0112e5914dd3"
      },
      "execution_count": 4,
      "outputs": [
        {
          "output_type": "stream",
          "name": "stdout",
          "text": [
            "2023-10-22 18:23:55.747408: W tensorflow/compiler/tf2tensorrt/utils/py_utils.cc:38] TF-TRT Warning: Could not find TensorRT\n",
            "Map: 100% 1550/1550 [00:00<00:00, 11035.49 examples/s]\n",
            "Map: 100% 1081/1081 [00:00<00:00, 13798.86 examples/s]\n",
            "\u001b[32m2023-10-22 18:24:03.576\u001b[0m | \u001b[1mINFO    \u001b[0m | \u001b[36mmodel\u001b[0m:\u001b[36mprint_trainable_parameters\u001b[0m:\u001b[36m65\u001b[0m - \u001b[1mtrainable params: 599043 || all params: 128660742 || trainable%: 0.4655989004011806\u001b[0m\n",
            "Epoch 1/15\n",
            "Loss: 0.0679\n",
            "Accuracy: 0.3942\n",
            "F1 Score: 0.2838\n",
            "Recall: 0.3942\n",
            "Precision: 0.3162\n",
            "--------------------------------------------------\n",
            "Epoch 2/15\n",
            "Loss: 0.0671\n",
            "Accuracy: 0.4194\n",
            "F1 Score: 0.2515\n",
            "Recall: 0.4194\n",
            "Precision: 0.2728\n",
            "--------------------------------------------------\n",
            "Epoch 3/15\n",
            "Loss: 0.0664\n",
            "Accuracy: 0.4226\n",
            "F1 Score: 0.2614\n",
            "Recall: 0.4226\n",
            "Precision: 0.3287\n",
            "--------------------------------------------------\n",
            "Epoch 4/15\n",
            "Loss: 0.0659\n",
            "Accuracy: 0.4239\n",
            "F1 Score: 0.2643\n",
            "Recall: 0.4239\n",
            "Precision: 0.4901\n",
            "--------------------------------------------------\n",
            "Epoch 5/15\n",
            "Loss: 0.0655\n",
            "Accuracy: 0.4361\n",
            "F1 Score: 0.2951\n",
            "Recall: 0.4361\n",
            "Precision: 0.5389\n",
            "--------------------------------------------------\n",
            "Epoch 6/15\n",
            "Loss: 0.0647\n",
            "Accuracy: 0.4542\n",
            "F1 Score: 0.3474\n",
            "Recall: 0.4542\n",
            "Precision: 0.5637\n",
            "--------------------------------------------------\n",
            "Epoch 7/15\n",
            "Loss: 0.0648\n",
            "Accuracy: 0.4471\n",
            "F1 Score: 0.3484\n",
            "Recall: 0.4471\n",
            "Precision: 0.4762\n",
            "--------------------------------------------------\n",
            "Epoch 8/15\n",
            "Loss: 0.0641\n",
            "Accuracy: 0.4568\n",
            "F1 Score: 0.3550\n",
            "Recall: 0.4568\n",
            "Precision: 0.5665\n",
            "--------------------------------------------------\n",
            "Epoch 9/15\n",
            "Loss: 0.0638\n",
            "Accuracy: 0.4703\n",
            "F1 Score: 0.4186\n",
            "Recall: 0.4703\n",
            "Precision: 0.5036\n",
            "--------------------------------------------------\n",
            "Epoch 10/15\n",
            "Loss: 0.0641\n",
            "Accuracy: 0.4748\n",
            "F1 Score: 0.4214\n",
            "Recall: 0.4748\n",
            "Precision: 0.5083\n",
            "--------------------------------------------------\n",
            "Epoch 11/15\n",
            "Loss: 0.0645\n",
            "Accuracy: 0.4826\n",
            "F1 Score: 0.4249\n",
            "Recall: 0.4826\n",
            "Precision: 0.5136\n",
            "--------------------------------------------------\n",
            "Epoch 12/15\n",
            "Loss: 0.0630\n",
            "Accuracy: 0.5052\n",
            "F1 Score: 0.4692\n",
            "Recall: 0.5052\n",
            "Precision: 0.5464\n",
            "--------------------------------------------------\n",
            "Epoch 13/15\n",
            "Loss: 0.0629\n",
            "Accuracy: 0.5039\n",
            "F1 Score: 0.4579\n",
            "Recall: 0.5039\n",
            "Precision: 0.5529\n",
            "--------------------------------------------------\n",
            "Epoch 14/15\n",
            "Loss: 0.0625\n",
            "Accuracy: 0.5019\n",
            "F1 Score: 0.4731\n",
            "Recall: 0.5019\n",
            "Precision: 0.5221\n",
            "--------------------------------------------------\n",
            "Epoch 15/15\n",
            "Loss: 0.0630\n",
            "Accuracy: 0.5077\n",
            "F1 Score: 0.4793\n",
            "Recall: 0.5077\n",
            "Precision: 0.5333\n",
            "--------------------------------------------------\n",
            "\u001b[32m2023-10-22 18:25:58.134\u001b[0m | \u001b[1mINFO    \u001b[0m | \u001b[36m__main__\u001b[0m:\u001b[36mmain\u001b[0m:\u001b[36m212\u001b[0m - \u001b[1mTest Metrics: {'accuracy': 0.5124884366327475, 'f1_score': 0.4970115001382599, 'recall': 0.5124884366327475, 'precision': 0.5336489858235869}\u001b[0m\n"
          ]
        }
      ]
    },
    {
      "cell_type": "markdown",
      "source": [
        "# P Tuning"
      ],
      "metadata": {
        "id": "wSefqqSWrJY6"
      }
    },
    {
      "cell_type": "code",
      "source": [
        "!python train.py --model_id=yikuan8/Clinical-BigBird --save_dir=peft_p_tuning_model --num_labels=3 --epochs=15 --use_peft=True --peft_method=p_tuning"
      ],
      "metadata": {
        "colab": {
          "base_uri": "https://localhost:8080/"
        },
        "id": "z6133hE5nXpF",
        "outputId": "1be5dd18-351a-44bc-d690-031ba9025de9"
      },
      "execution_count": 8,
      "outputs": [
        {
          "output_type": "stream",
          "name": "stdout",
          "text": [
            "2023-10-22 18:34:00.819021: W tensorflow/compiler/tf2tensorrt/utils/py_utils.cc:38] TF-TRT Warning: Could not find TensorRT\n",
            "Map: 100% 1550/1550 [00:00<00:00, 11395.39 examples/s]\n",
            "Map: 100% 1081/1081 [00:00<00:00, 13939.15 examples/s]\n",
            "\u001b[32m2023-10-22 18:34:09.230\u001b[0m | \u001b[1mINFO    \u001b[0m | \u001b[36mmodel\u001b[0m:\u001b[36mprint_trainable_parameters\u001b[0m:\u001b[36m62\u001b[0m - \u001b[1mtrainable params: 822275 || all params: 128883974 || trainable%: 0.6379963113179611\u001b[0m\n",
            "Epoch 1/15\n",
            "Loss: 0.0671\n",
            "Accuracy: 0.4116\n",
            "F1 Score: 0.3279\n",
            "Recall: 0.4116\n",
            "Precision: 0.3788\n",
            "--------------------------------------------------\n",
            "Epoch 2/15\n",
            "Loss: 0.0649\n",
            "Accuracy: 0.4400\n",
            "F1 Score: 0.3156\n",
            "Recall: 0.4400\n",
            "Precision: 0.3466\n",
            "--------------------------------------------------\n",
            "Epoch 3/15\n",
            "Loss: 0.0636\n",
            "Accuracy: 0.4548\n",
            "F1 Score: 0.3718\n",
            "Recall: 0.4548\n",
            "Precision: 0.5137\n",
            "--------------------------------------------------\n",
            "Epoch 4/15\n",
            "Loss: 0.0620\n",
            "Accuracy: 0.4981\n",
            "F1 Score: 0.4465\n",
            "Recall: 0.4981\n",
            "Precision: 0.5734\n",
            "--------------------------------------------------\n",
            "Epoch 5/15\n",
            "Loss: 0.0608\n",
            "Accuracy: 0.5452\n",
            "F1 Score: 0.5152\n",
            "Recall: 0.5452\n",
            "Precision: 0.5971\n",
            "--------------------------------------------------\n",
            "Epoch 6/15\n",
            "Loss: 0.0592\n",
            "Accuracy: 0.5794\n",
            "F1 Score: 0.5662\n",
            "Recall: 0.5794\n",
            "Precision: 0.6121\n",
            "--------------------------------------------------\n",
            "Epoch 7/15\n",
            "Loss: 0.0577\n",
            "Accuracy: 0.6097\n",
            "F1 Score: 0.5979\n",
            "Recall: 0.6097\n",
            "Precision: 0.6391\n",
            "--------------------------------------------------\n",
            "Epoch 8/15\n",
            "Loss: 0.0564\n",
            "Accuracy: 0.6303\n",
            "F1 Score: 0.6276\n",
            "Recall: 0.6303\n",
            "Precision: 0.6328\n",
            "--------------------------------------------------\n",
            "Epoch 9/15\n",
            "Loss: 0.0553\n",
            "Accuracy: 0.6252\n",
            "F1 Score: 0.6204\n",
            "Recall: 0.6252\n",
            "Precision: 0.6315\n",
            "--------------------------------------------------\n",
            "Epoch 10/15\n",
            "Loss: 0.0547\n",
            "Accuracy: 0.6471\n",
            "F1 Score: 0.6421\n",
            "Recall: 0.6471\n",
            "Precision: 0.6552\n",
            "--------------------------------------------------\n",
            "Epoch 11/15\n",
            "Loss: 0.0532\n",
            "Accuracy: 0.6645\n",
            "F1 Score: 0.6614\n",
            "Recall: 0.6645\n",
            "Precision: 0.6655\n",
            "--------------------------------------------------\n",
            "Epoch 12/15\n",
            "Loss: 0.0513\n",
            "Accuracy: 0.6813\n",
            "F1 Score: 0.6773\n",
            "Recall: 0.6813\n",
            "Precision: 0.6861\n",
            "--------------------------------------------------\n",
            "Epoch 13/15\n",
            "Loss: 0.0503\n",
            "Accuracy: 0.6884\n",
            "F1 Score: 0.6864\n",
            "Recall: 0.6884\n",
            "Precision: 0.6904\n",
            "--------------------------------------------------\n",
            "Epoch 14/15\n",
            "Loss: 0.0491\n",
            "Accuracy: 0.6910\n",
            "F1 Score: 0.6883\n",
            "Recall: 0.6910\n",
            "Precision: 0.6917\n",
            "--------------------------------------------------\n",
            "Epoch 15/15\n",
            "Loss: 0.0488\n",
            "Accuracy: 0.6916\n",
            "F1 Score: 0.6880\n",
            "Recall: 0.6916\n",
            "Precision: 0.6964\n",
            "--------------------------------------------------\n",
            "\u001b[32m2023-10-22 18:36:15.579\u001b[0m | \u001b[1mINFO    \u001b[0m | \u001b[36m__main__\u001b[0m:\u001b[36mmain\u001b[0m:\u001b[36m212\u001b[0m - \u001b[1mTest Metrics: {'accuracy': 0.6864014801110083, 'f1_score': 0.6871456310863336, 'recall': 0.6864014801110083, 'precision': 0.6929068762109688}\u001b[0m\n"
          ]
        }
      ]
    },
    {
      "cell_type": "code",
      "source": [],
      "metadata": {
        "id": "H2X1Q47QsTtC"
      },
      "execution_count": null,
      "outputs": []
    }
  ]
}